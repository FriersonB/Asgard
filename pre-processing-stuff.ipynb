{
 "cells": [
  {
   "cell_type": "markdown",
   "id": "9d77ad12",
   "metadata": {
    "id": "37puETfgRzzg",
    "papermill": {
     "duration": 0.009187,
     "end_time": "2024-06-04T21:56:00.445123",
     "exception": false,
     "start_time": "2024-06-04T21:56:00.435936",
     "status": "completed"
    },
    "tags": []
   },
   "source": [
    "# Data Preprocessing Tools"
   ]
  },
  {
   "cell_type": "markdown",
   "id": "74d360db",
   "metadata": {
    "id": "EoRP98MpR-qj",
    "papermill": {
     "duration": 0.008361,
     "end_time": "2024-06-04T21:56:00.462234",
     "exception": false,
     "start_time": "2024-06-04T21:56:00.453873",
     "status": "completed"
    },
    "tags": []
   },
   "source": [
    "## Importing the libraries"
   ]
  },
  {
   "cell_type": "code",
   "execution_count": 1,
   "id": "591c18ca",
   "metadata": {
    "execution": {
     "iopub.execute_input": "2024-06-04T21:56:00.481483Z",
     "iopub.status.busy": "2024-06-04T21:56:00.481070Z",
     "iopub.status.idle": "2024-06-04T21:56:01.614059Z",
     "shell.execute_reply": "2024-06-04T21:56:01.612655Z"
    },
    "id": "N-qiINBQSK2g",
    "papermill": {
     "duration": 1.14639,
     "end_time": "2024-06-04T21:56:01.617260",
     "exception": false,
     "start_time": "2024-06-04T21:56:00.470870",
     "status": "completed"
    },
    "tags": []
   },
   "outputs": [],
   "source": [
    "import numpy as np\n",
    "import matplotlib.pyplot as plt\n",
    "import pandas as pd"
   ]
  },
  {
   "cell_type": "markdown",
   "id": "69e9ce22",
   "metadata": {
    "id": "RopL7tUZSQkT",
    "papermill": {
     "duration": 0.008168,
     "end_time": "2024-06-04T21:56:01.634188",
     "exception": false,
     "start_time": "2024-06-04T21:56:01.626020",
     "status": "completed"
    },
    "tags": []
   },
   "source": [
    "## Importing the dataset"
   ]
  },
  {
   "cell_type": "code",
   "execution_count": 2,
   "id": "a1a4c3a4",
   "metadata": {
    "execution": {
     "iopub.execute_input": "2024-06-04T21:56:01.653741Z",
     "iopub.status.busy": "2024-06-04T21:56:01.653012Z",
     "iopub.status.idle": "2024-06-04T21:56:01.691695Z",
     "shell.execute_reply": "2024-06-04T21:56:01.690075Z"
    },
    "id": "WwEPNDWySTKm",
    "papermill": {
     "duration": 0.052248,
     "end_time": "2024-06-04T21:56:01.694877",
     "exception": false,
     "start_time": "2024-06-04T21:56:01.642629",
     "status": "completed"
    },
    "tags": []
   },
   "outputs": [],
   "source": [
    "dataset = pd.read_csv('/kaggle/input/ml-study/Machine Learning A-Z (Codes and Datasets)/Part 1 - Data Preprocessing/Section 2 -------------------- Part 1 - Data Preprocessing --------------------/Python/Data.csv')\n",
    "#creating datset and dependent variable. PRe celaned set includes dependent variable in last column\n",
    "X = dataset.iloc[:, :-1].values\n",
    "y = dataset.iloc[:, -1].values"
   ]
  },
  {
   "cell_type": "code",
   "execution_count": 3,
   "id": "5a855d72",
   "metadata": {
    "execution": {
     "iopub.execute_input": "2024-06-04T21:56:01.714816Z",
     "iopub.status.busy": "2024-06-04T21:56:01.714284Z",
     "iopub.status.idle": "2024-06-04T21:56:01.722092Z",
     "shell.execute_reply": "2024-06-04T21:56:01.720567Z"
    },
    "id": "hCsz2yCebe1R",
    "outputId": "1e4cc568-4e51-4b38-9d46-4aa3f15204be",
    "papermill": {
     "duration": 0.021818,
     "end_time": "2024-06-04T21:56:01.725319",
     "exception": false,
     "start_time": "2024-06-04T21:56:01.703501",
     "status": "completed"
    },
    "tags": []
   },
   "outputs": [
    {
     "name": "stdout",
     "output_type": "stream",
     "text": [
      "[['France' 44.0 72000.0]\n",
      " ['Spain' 27.0 48000.0]\n",
      " ['Germany' 30.0 54000.0]\n",
      " ['Spain' 38.0 61000.0]\n",
      " ['Germany' 40.0 nan]\n",
      " ['France' 35.0 58000.0]\n",
      " ['Spain' nan 52000.0]\n",
      " ['France' 48.0 79000.0]\n",
      " ['Germany' 50.0 83000.0]\n",
      " ['France' 37.0 67000.0]]\n"
     ]
    }
   ],
   "source": [
    "print(X)"
   ]
  },
  {
   "cell_type": "code",
   "execution_count": 4,
   "id": "d451eebd",
   "metadata": {
    "execution": {
     "iopub.execute_input": "2024-06-04T21:56:01.746916Z",
     "iopub.status.busy": "2024-06-04T21:56:01.745527Z",
     "iopub.status.idle": "2024-06-04T21:56:01.754245Z",
     "shell.execute_reply": "2024-06-04T21:56:01.752722Z"
    },
    "id": "eYrOQ43XcJR3",
    "outputId": "e0873b2a-3b08-4bab-ef0d-15b88858ca44",
    "papermill": {
     "duration": 0.023606,
     "end_time": "2024-06-04T21:56:01.758095",
     "exception": false,
     "start_time": "2024-06-04T21:56:01.734489",
     "status": "completed"
    },
    "tags": []
   },
   "outputs": [
    {
     "name": "stdout",
     "output_type": "stream",
     "text": [
      "['No' 'Yes' 'No' 'No' 'Yes' 'Yes' 'No' 'Yes' 'No' 'Yes']\n"
     ]
    }
   ],
   "source": [
    "print(y)"
   ]
  },
  {
   "cell_type": "markdown",
   "id": "593627fa",
   "metadata": {
    "id": "nhfKXNxlSabC",
    "papermill": {
     "duration": 0.008972,
     "end_time": "2024-06-04T21:56:01.776418",
     "exception": false,
     "start_time": "2024-06-04T21:56:01.767446",
     "status": "completed"
    },
    "tags": []
   },
   "source": [
    "## Taking care of missing data"
   ]
  },
  {
   "cell_type": "code",
   "execution_count": 5,
   "id": "9b01401a",
   "metadata": {
    "execution": {
     "iopub.execute_input": "2024-06-04T21:56:01.797150Z",
     "iopub.status.busy": "2024-06-04T21:56:01.796721Z",
     "iopub.status.idle": "2024-06-04T21:56:03.613604Z",
     "shell.execute_reply": "2024-06-04T21:56:03.612150Z"
    },
    "id": "c93k7ipkSexq",
    "papermill": {
     "duration": 1.831071,
     "end_time": "2024-06-04T21:56:03.616718",
     "exception": false,
     "start_time": "2024-06-04T21:56:01.785647",
     "status": "completed"
    },
    "tags": []
   },
   "outputs": [],
   "source": [
    "from sklearn.impute import SimpleImputer\n",
    "imputer = SimpleImputer(missing_values=np.nan, strategy='mean')\n",
    "imputer.fit(X[:,1:3])\n",
    "X[:,1:3] = imputer.transform(X[:,1:3])"
   ]
  },
  {
   "cell_type": "code",
   "execution_count": 6,
   "id": "68adb727",
   "metadata": {
    "execution": {
     "iopub.execute_input": "2024-06-04T21:56:03.639077Z",
     "iopub.status.busy": "2024-06-04T21:56:03.637922Z",
     "iopub.status.idle": "2024-06-04T21:56:03.645271Z",
     "shell.execute_reply": "2024-06-04T21:56:03.643622Z"
    },
    "id": "3UgLdMS_bjq_",
    "outputId": "254af4e0-681e-47f5-aaa7-b9c6f43258e9",
    "papermill": {
     "duration": 0.021226,
     "end_time": "2024-06-04T21:56:03.647851",
     "exception": false,
     "start_time": "2024-06-04T21:56:03.626625",
     "status": "completed"
    },
    "tags": []
   },
   "outputs": [
    {
     "name": "stdout",
     "output_type": "stream",
     "text": [
      "[['France' 44.0 72000.0]\n",
      " ['Spain' 27.0 48000.0]\n",
      " ['Germany' 30.0 54000.0]\n",
      " ['Spain' 38.0 61000.0]\n",
      " ['Germany' 40.0 63777.77777777778]\n",
      " ['France' 35.0 58000.0]\n",
      " ['Spain' 38.77777777777778 52000.0]\n",
      " ['France' 48.0 79000.0]\n",
      " ['Germany' 50.0 83000.0]\n",
      " ['France' 37.0 67000.0]]\n"
     ]
    }
   ],
   "source": [
    "print(X)"
   ]
  },
  {
   "cell_type": "markdown",
   "id": "c6e1cb28",
   "metadata": {
    "id": "CriG6VzVSjcK",
    "papermill": {
     "duration": 0.008502,
     "end_time": "2024-06-04T21:56:03.665128",
     "exception": false,
     "start_time": "2024-06-04T21:56:03.656626",
     "status": "completed"
    },
    "tags": []
   },
   "source": [
    "## Encoding categorical data"
   ]
  },
  {
   "cell_type": "markdown",
   "id": "7e1cc58b",
   "metadata": {
    "id": "AhSpdQWeSsFh",
    "papermill": {
     "duration": 0.008326,
     "end_time": "2024-06-04T21:56:03.682365",
     "exception": false,
     "start_time": "2024-06-04T21:56:03.674039",
     "status": "completed"
    },
    "tags": []
   },
   "source": [
    "### Encoding the Independent Variable"
   ]
  },
  {
   "cell_type": "code",
   "execution_count": 7,
   "id": "c95dcb8e",
   "metadata": {
    "execution": {
     "iopub.execute_input": "2024-06-04T21:56:03.702547Z",
     "iopub.status.busy": "2024-06-04T21:56:03.701745Z",
     "iopub.status.idle": "2024-06-04T21:56:03.729969Z",
     "shell.execute_reply": "2024-06-04T21:56:03.728267Z"
    },
    "id": "5hwuVddlSwVi",
    "papermill": {
     "duration": 0.043254,
     "end_time": "2024-06-04T21:56:03.734560",
     "exception": false,
     "start_time": "2024-06-04T21:56:03.691306",
     "status": "completed"
    },
    "tags": []
   },
   "outputs": [],
   "source": [
    "from sklearn.compose import ColumnTransformer\n",
    "from sklearn.preprocessing import OneHotEncoder\n",
    "ct = ColumnTransformer(transformers=[('encoder', OneHotEncoder(),[0])] , remainder='passthrough')\n",
    "#Make sure to turn vectors into np array\n",
    "X = np.array(ct.fit_transform(X))"
   ]
  },
  {
   "cell_type": "code",
   "execution_count": 8,
   "id": "8ca7d61e",
   "metadata": {
    "execution": {
     "iopub.execute_input": "2024-06-04T21:56:03.759037Z",
     "iopub.status.busy": "2024-06-04T21:56:03.757743Z",
     "iopub.status.idle": "2024-06-04T21:56:03.767661Z",
     "shell.execute_reply": "2024-06-04T21:56:03.765729Z"
    },
    "id": "f7QspewyeBfx",
    "outputId": "5b35feef-7fe2-46ef-ce70-80495f94f4ed",
    "papermill": {
     "duration": 0.025452,
     "end_time": "2024-06-04T21:56:03.770999",
     "exception": false,
     "start_time": "2024-06-04T21:56:03.745547",
     "status": "completed"
    },
    "tags": []
   },
   "outputs": [
    {
     "name": "stdout",
     "output_type": "stream",
     "text": [
      "[[1.0 0.0 0.0 44.0 72000.0]\n",
      " [0.0 0.0 1.0 27.0 48000.0]\n",
      " [0.0 1.0 0.0 30.0 54000.0]\n",
      " [0.0 0.0 1.0 38.0 61000.0]\n",
      " [0.0 1.0 0.0 40.0 63777.77777777778]\n",
      " [1.0 0.0 0.0 35.0 58000.0]\n",
      " [0.0 0.0 1.0 38.77777777777778 52000.0]\n",
      " [1.0 0.0 0.0 48.0 79000.0]\n",
      " [0.0 1.0 0.0 50.0 83000.0]\n",
      " [1.0 0.0 0.0 37.0 67000.0]]\n"
     ]
    }
   ],
   "source": [
    "print(X)"
   ]
  },
  {
   "cell_type": "markdown",
   "id": "43afc8b3",
   "metadata": {
    "id": "DXh8oVSITIc6",
    "papermill": {
     "duration": 0.008864,
     "end_time": "2024-06-04T21:56:03.792055",
     "exception": false,
     "start_time": "2024-06-04T21:56:03.783191",
     "status": "completed"
    },
    "tags": []
   },
   "source": [
    "### Encoding the Dependent Variable"
   ]
  },
  {
   "cell_type": "code",
   "execution_count": 9,
   "id": "4c2d2f91",
   "metadata": {
    "execution": {
     "iopub.execute_input": "2024-06-04T21:56:03.813219Z",
     "iopub.status.busy": "2024-06-04T21:56:03.812664Z",
     "iopub.status.idle": "2024-06-04T21:56:03.819616Z",
     "shell.execute_reply": "2024-06-04T21:56:03.818269Z"
    },
    "id": "XgHCShVyTOYY",
    "papermill": {
     "duration": 0.020584,
     "end_time": "2024-06-04T21:56:03.822417",
     "exception": false,
     "start_time": "2024-06-04T21:56:03.801833",
     "status": "completed"
    },
    "tags": []
   },
   "outputs": [],
   "source": [
    "from sklearn.preprocessing import LabelEncoder\n",
    "le = LabelEncoder()\n",
    "#no need to turn into a numpy array as only one vector\n",
    "y = le.fit_transform(y)\n"
   ]
  },
  {
   "cell_type": "code",
   "execution_count": 10,
   "id": "ac2fd5a5",
   "metadata": {
    "execution": {
     "iopub.execute_input": "2024-06-04T21:56:03.842830Z",
     "iopub.status.busy": "2024-06-04T21:56:03.842322Z",
     "iopub.status.idle": "2024-06-04T21:56:03.849790Z",
     "shell.execute_reply": "2024-06-04T21:56:03.848260Z"
    },
    "id": "FyhY8-gPpFCa",
    "outputId": "7f76ef29-5423-4c3e-cf69-45fbc366a997",
    "papermill": {
     "duration": 0.021392,
     "end_time": "2024-06-04T21:56:03.852772",
     "exception": false,
     "start_time": "2024-06-04T21:56:03.831380",
     "status": "completed"
    },
    "tags": []
   },
   "outputs": [
    {
     "name": "stdout",
     "output_type": "stream",
     "text": [
      "[0 1 0 0 1 1 0 1 0 1]\n"
     ]
    }
   ],
   "source": [
    "print(y)\n"
   ]
  },
  {
   "cell_type": "markdown",
   "id": "b2fd86b7",
   "metadata": {
    "id": "qb_vcgm3qZKW",
    "papermill": {
     "duration": 0.011646,
     "end_time": "2024-06-04T21:56:03.874478",
     "exception": false,
     "start_time": "2024-06-04T21:56:03.862832",
     "status": "completed"
    },
    "tags": []
   },
   "source": [
    "## Splitting the dataset into the Training set and Test set"
   ]
  },
  {
   "cell_type": "code",
   "execution_count": 11,
   "id": "f0cc84d9",
   "metadata": {
    "execution": {
     "iopub.execute_input": "2024-06-04T21:56:03.900677Z",
     "iopub.status.busy": "2024-06-04T21:56:03.899906Z",
     "iopub.status.idle": "2024-06-04T21:56:03.913705Z",
     "shell.execute_reply": "2024-06-04T21:56:03.911467Z"
    },
    "id": "pXgA6CzlqbCl",
    "papermill": {
     "duration": 0.031273,
     "end_time": "2024-06-04T21:56:03.917322",
     "exception": false,
     "start_time": "2024-06-04T21:56:03.886049",
     "status": "completed"
    },
    "tags": []
   },
   "outputs": [],
   "source": [
    "from sklearn.model_selection import train_test_split\n",
    "X_train, X_test, y_train, y_test = train_test_split(X, y, test_size = 0.2, random_state = 1)"
   ]
  },
  {
   "cell_type": "code",
   "execution_count": 12,
   "id": "fcb83b47",
   "metadata": {
    "execution": {
     "iopub.execute_input": "2024-06-04T21:56:03.942353Z",
     "iopub.status.busy": "2024-06-04T21:56:03.941705Z",
     "iopub.status.idle": "2024-06-04T21:56:03.952864Z",
     "shell.execute_reply": "2024-06-04T21:56:03.950214Z"
    },
    "id": "GuwQhFdKrYTM",
    "outputId": "de1e527f-c229-4daf-e7c5-ea9d2485148d",
    "papermill": {
     "duration": 0.02801,
     "end_time": "2024-06-04T21:56:03.956449",
     "exception": false,
     "start_time": "2024-06-04T21:56:03.928439",
     "status": "completed"
    },
    "tags": []
   },
   "outputs": [
    {
     "name": "stdout",
     "output_type": "stream",
     "text": [
      "[[0.0 0.0 1.0 38.77777777777778 52000.0]\n",
      " [0.0 1.0 0.0 40.0 63777.77777777778]\n",
      " [1.0 0.0 0.0 44.0 72000.0]\n",
      " [0.0 0.0 1.0 38.0 61000.0]\n",
      " [0.0 0.0 1.0 27.0 48000.0]\n",
      " [1.0 0.0 0.0 48.0 79000.0]\n",
      " [0.0 1.0 0.0 50.0 83000.0]\n",
      " [1.0 0.0 0.0 35.0 58000.0]]\n"
     ]
    }
   ],
   "source": [
    "print(X_train)"
   ]
  },
  {
   "cell_type": "code",
   "execution_count": 13,
   "id": "f1e91651",
   "metadata": {
    "execution": {
     "iopub.execute_input": "2024-06-04T21:56:03.986685Z",
     "iopub.status.busy": "2024-06-04T21:56:03.985121Z",
     "iopub.status.idle": "2024-06-04T21:56:03.993274Z",
     "shell.execute_reply": "2024-06-04T21:56:03.991430Z"
    },
    "id": "TUrX_Tvcrbi4",
    "outputId": "9a041a9b-2642-4828-fa2f-a431d7d77631",
    "papermill": {
     "duration": 0.025967,
     "end_time": "2024-06-04T21:56:03.996029",
     "exception": false,
     "start_time": "2024-06-04T21:56:03.970062",
     "status": "completed"
    },
    "tags": []
   },
   "outputs": [
    {
     "name": "stdout",
     "output_type": "stream",
     "text": [
      "[[0.0 1.0 0.0 30.0 54000.0]\n",
      " [1.0 0.0 0.0 37.0 67000.0]]\n"
     ]
    }
   ],
   "source": [
    "print(X_test)"
   ]
  },
  {
   "cell_type": "code",
   "execution_count": 14,
   "id": "9328c6a9",
   "metadata": {
    "execution": {
     "iopub.execute_input": "2024-06-04T21:56:04.025317Z",
     "iopub.status.busy": "2024-06-04T21:56:04.024530Z",
     "iopub.status.idle": "2024-06-04T21:56:04.033500Z",
     "shell.execute_reply": "2024-06-04T21:56:04.031895Z"
    },
    "id": "pSMHiIsWreQY",
    "outputId": "5afe91e0-9244-4bf5-ec1b-e3e092b85c08",
    "papermill": {
     "duration": 0.028778,
     "end_time": "2024-06-04T21:56:04.036239",
     "exception": false,
     "start_time": "2024-06-04T21:56:04.007461",
     "status": "completed"
    },
    "tags": []
   },
   "outputs": [
    {
     "name": "stdout",
     "output_type": "stream",
     "text": [
      "[0 1 0 0 1 1 0 1]\n"
     ]
    }
   ],
   "source": [
    "print(y_train)"
   ]
  },
  {
   "cell_type": "code",
   "execution_count": 15,
   "id": "c9aeb01e",
   "metadata": {
    "execution": {
     "iopub.execute_input": "2024-06-04T21:56:04.057152Z",
     "iopub.status.busy": "2024-06-04T21:56:04.056616Z",
     "iopub.status.idle": "2024-06-04T21:56:04.064462Z",
     "shell.execute_reply": "2024-06-04T21:56:04.062766Z"
    },
    "id": "I_tW7H56rgtW",
    "outputId": "2a93f141-2a99-4a69-eec5-c82a3bb8d36b",
    "papermill": {
     "duration": 0.021799,
     "end_time": "2024-06-04T21:56:04.067207",
     "exception": false,
     "start_time": "2024-06-04T21:56:04.045408",
     "status": "completed"
    },
    "tags": []
   },
   "outputs": [
    {
     "name": "stdout",
     "output_type": "stream",
     "text": [
      "[0 1]\n"
     ]
    }
   ],
   "source": [
    "print(y_test)"
   ]
  },
  {
   "cell_type": "markdown",
   "id": "483cbe86",
   "metadata": {
    "id": "TpGqbS4TqkIR",
    "papermill": {
     "duration": 0.008919,
     "end_time": "2024-06-04T21:56:04.085569",
     "exception": false,
     "start_time": "2024-06-04T21:56:04.076650",
     "status": "completed"
    },
    "tags": []
   },
   "source": [
    "## Feature Scaling"
   ]
  },
  {
   "cell_type": "code",
   "execution_count": 16,
   "id": "4a495e45",
   "metadata": {
    "execution": {
     "iopub.execute_input": "2024-06-04T21:56:04.107067Z",
     "iopub.status.busy": "2024-06-04T21:56:04.105751Z",
     "iopub.status.idle": "2024-06-04T21:56:04.116963Z",
     "shell.execute_reply": "2024-06-04T21:56:04.114341Z"
    },
    "id": "AxjSUXFQqo-3",
    "papermill": {
     "duration": 0.026271,
     "end_time": "2024-06-04T21:56:04.121102",
     "exception": false,
     "start_time": "2024-06-04T21:56:04.094831",
     "status": "completed"
    },
    "tags": []
   },
   "outputs": [],
   "source": [
    "from sklearn.preprocessing import StandardScaler\n",
    "sc = StandardScaler()\n",
    "X_train[:, 3:] = sc.fit_transform(X_train[:, 3:])\n",
    "X_test[:, 3:] = sc.transform(X_test[:, 3:])"
   ]
  },
  {
   "cell_type": "code",
   "execution_count": 17,
   "id": "41d3e7a6",
   "metadata": {
    "execution": {
     "iopub.execute_input": "2024-06-04T21:56:04.145891Z",
     "iopub.status.busy": "2024-06-04T21:56:04.145250Z",
     "iopub.status.idle": "2024-06-04T21:56:04.153866Z",
     "shell.execute_reply": "2024-06-04T21:56:04.152304Z"
    },
    "id": "DWPET8ZdlMnu",
    "outputId": "dea86927-5124-4e2a-e974-2804df9a913c",
    "papermill": {
     "duration": 0.025944,
     "end_time": "2024-06-04T21:56:04.158700",
     "exception": false,
     "start_time": "2024-06-04T21:56:04.132756",
     "status": "completed"
    },
    "tags": []
   },
   "outputs": [
    {
     "name": "stdout",
     "output_type": "stream",
     "text": [
      "[[0.0 0.0 1.0 -0.19159184384578545 -1.0781259408412425]\n",
      " [0.0 1.0 0.0 -0.014117293757057777 -0.07013167641635372]\n",
      " [1.0 0.0 0.0 0.566708506533324 0.633562432710455]\n",
      " [0.0 0.0 1.0 -0.30453019390224867 -0.30786617274297867]\n",
      " [0.0 0.0 1.0 -1.9018011447007988 -1.420463615551582]\n",
      " [1.0 0.0 0.0 1.1475343068237058 1.232653363453549]\n",
      " [0.0 1.0 0.0 1.4379472069688968 1.5749910381638885]\n",
      " [1.0 0.0 0.0 -0.7401495441200351 -0.5646194287757332]]\n"
     ]
    }
   ],
   "source": [
    "print(X_train)"
   ]
  },
  {
   "cell_type": "code",
   "execution_count": 18,
   "id": "0c0dce76",
   "metadata": {
    "execution": {
     "iopub.execute_input": "2024-06-04T21:56:04.185449Z",
     "iopub.status.busy": "2024-06-04T21:56:04.184753Z",
     "iopub.status.idle": "2024-06-04T21:56:04.194545Z",
     "shell.execute_reply": "2024-06-04T21:56:04.192662Z"
    },
    "id": "sTXykB_QlRjE",
    "outputId": "b68f0cfc-d07c-48cb-80d0-6800028c41f9",
    "papermill": {
     "duration": 0.025099,
     "end_time": "2024-06-04T21:56:04.197925",
     "exception": false,
     "start_time": "2024-06-04T21:56:04.172826",
     "status": "completed"
    },
    "tags": []
   },
   "outputs": [
    {
     "name": "stdout",
     "output_type": "stream",
     "text": [
      "[[0.0 1.0 0.0 -1.4661817944830124 -0.9069571034860727]\n",
      " [1.0 0.0 0.0 -0.44973664397484414 0.2056403393225306]]\n"
     ]
    }
   ],
   "source": [
    "print(X_test)"
   ]
  }
 ],
 "metadata": {
  "colab": {
   "collapsed_sections": [],
   "name": "data_preprocessing_tools.ipynb",
   "provenance": [],
   "toc_visible": true
  },
  "kaggle": {
   "accelerator": "none",
   "dataSources": [
    {
     "datasetId": 5150242,
     "sourceId": 8606961,
     "sourceType": "datasetVersion"
    }
   ],
   "dockerImageVersionId": 30715,
   "isGpuEnabled": false,
   "isInternetEnabled": true,
   "language": "python",
   "sourceType": "notebook"
  },
  "kernelspec": {
   "display_name": "Python 3",
   "language": "python",
   "name": "python3"
  },
  "language_info": {
   "codemirror_mode": {
    "name": "ipython",
    "version": 3
   },
   "file_extension": ".py",
   "mimetype": "text/x-python",
   "name": "python",
   "nbconvert_exporter": "python",
   "pygments_lexer": "ipython3",
   "version": "3.10.13"
  },
  "papermill": {
   "default_parameters": {},
   "duration": 8.079251,
   "end_time": "2024-06-04T21:56:05.133455",
   "environment_variables": {},
   "exception": null,
   "input_path": "__notebook__.ipynb",
   "output_path": "__notebook__.ipynb",
   "parameters": {},
   "start_time": "2024-06-04T21:55:57.054204",
   "version": "2.5.0"
  }
 },
 "nbformat": 4,
 "nbformat_minor": 5
}
